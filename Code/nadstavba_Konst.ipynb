{
 "cells": [
  {
   "cell_type": "code",
   "metadata": {
    "deepnote_to_be_reexecuted": false,
    "execution_millis": 1595,
    "execution_start": 1644238809618,
    "source_hash": "4bbe36fa",
    "tags": [],
    "cell_id": "c87e4535-e10b-4933-8aeb-7b4318d1bc3c",
    "deepnote_cell_type": "code"
   },
   "source": "\nimport pandas as pd\nimport numpy as np\nimport plotly.express as px\n\nimport sklearn.model_selection as skm\nfrom scipy.optimize import linprog",
   "outputs": [],
   "execution_count": null
  },
  {
   "cell_type": "code",
   "metadata": {
    "deepnote_output_heights": [
     78.796875
    ],
    "deepnote_to_be_reexecuted": false,
    "execution_millis": 12,
    "execution_start": 1644238811214,
    "output_cleared": false,
    "source_hash": "683099a9",
    "tags": [],
    "cell_id": "00001-1c0650bb-824b-43f7-b184-da0872555465",
    "deepnote_cell_type": "code"
   },
   "source": "data = pd.read_csv(\"data_banknote_authentication.txt\")\ncNames = [\"variance\",\"skewness\",\"curtosis\",\"entropy\",\"isForgery\"]\ndata.set_axis(cNames,axis=1,inplace=True)",
   "outputs": [],
   "execution_count": null
  },
  {
   "cell_type": "code",
   "metadata": {
    "deepnote_to_be_reexecuted": false,
    "execution_millis": 6,
    "execution_start": 1644238811234,
    "source_hash": "393b02d6",
    "tags": [],
    "cell_id": "00002-f4fc37b2-2210-429e-a695-a9328018a645",
    "deepnote_cell_type": "code"
   },
   "source": "train,test = skm.train_test_split(data)\n#75,25 ish",
   "outputs": [],
   "execution_count": null
  },
  {
   "cell_type": "code",
   "metadata": {
    "deepnote_to_be_reexecuted": false,
    "execution_millis": 3,
    "execution_start": 1644238811241,
    "source_hash": "def0723f",
    "tags": [],
    "cell_id": "00003-49c86832-c7fd-4ca5-bcb8-9b5034875389",
    "deepnote_cell_type": "code"
   },
   "source": "significant_digits = 6\nepsilon = 10**(-significant_digits)\n\nm = [\"highs-ds\", \"highs-ipm\", \"revised simplex\", \"interior-point\"]",
   "outputs": [],
   "execution_count": null
  },
  {
   "cell_type": "code",
   "metadata": {
    "deepnote_table_loading": false,
    "deepnote_table_state": {
     "filters": [],
     "pageIndex": 7,
     "pageSize": 10,
     "sortBy": []
    },
    "deepnote_to_be_reexecuted": false,
    "execution_millis": 15,
    "execution_start": 1644238811247,
    "output_cleared": false,
    "source_hash": "ad6665c8",
    "tags": [],
    "cell_id": "00004-30aaecce-44d5-4b0e-a583-695b7544209a",
    "deepnote_cell_type": "code"
   },
   "source": "\ntrain_no = train.loc[train[\"isForgery\"]==1].iloc[:,[0,1,2,3]]\ntrain_yes = train.loc[train[\"isForgery\"]==0].iloc[:,[0,1,2,3]]\n#split to X,Y by is forgery and cut the column out",
   "outputs": [],
   "execution_count": null
  },
  {
   "cell_type": "code",
   "metadata": {
    "deepnote_to_be_reexecuted": false,
    "execution_millis": 1,
    "execution_start": 1644238811311,
    "source_hash": "e38acfd0",
    "tags": [],
    "cell_id": "00006-25481532-9084-44a8-998b-14eca58d1f72",
    "deepnote_cell_type": "code"
   },
   "source": "X = train_yes.to_numpy()\nY = train_no.to_numpy()\n\nXp = np.hstack((-X,np.ones(X.shape[0])[:,None]))\nXp = np.hstack((Xp,-np.eye(X.shape[0])))\nXp = np.hstack((Xp,np.zeros([X.shape[0],Y.shape[0]])))\n\nYp = np.hstack((Y,-np.ones(Y.shape[0])[:,None]))\nYp = np.hstack((Yp,np.zeros([Y.shape[0],X.shape[0]])))\nYp = np.hstack((Yp,-np.eye(Y.shape[0])))\n\nA = np.vstack((Xp,Yp))\nb = -np.ones(X.shape[0] + Y.shape[0])\n\nc = np.array([0] * (X.shape[1] + 1) + [1]*X.shape[0] + [1]*Y.shape[0])",
   "outputs": [],
   "execution_count": null
  },
  {
   "cell_type": "code",
   "metadata": {
    "deepnote_output_heights": [
     597.1875
    ],
    "deepnote_to_be_reexecuted": false,
    "execution_millis": 60005,
    "execution_start": 1644238811320,
    "source_hash": "2f1bd3e7",
    "tags": [],
    "cell_id": "00008-8ea5eee7-d7b0-4c5f-a3de-a65d30910c5b",
    "deepnote_cell_type": "code"
   },
   "source": "\nfor method in m:\n    #maybe bounds should be (None, None) - not sure\n    options = {\"cholesky\":False,\"lstsq\":True,\"presolve\":True,\"sym_pos\":False}\n    \n    result = linprog(c, A_ub=A, b_ub=b, method=method, bounds=((0,None)))\n    #print(f\"{method}:{result}\")\n    result = result.x\n    try:\n        result[abs(result) < epsilon] = 0\n\n        a_result = result[0:4]\n        b_result = result[5]\n        print(f\"{method}\\na:{a_result}\\nb:{b_result}\")\n    except:\n        print(f\"{method} found nothing\")\n        \n#Every method produces same results ",
   "outputs": [
    {
     "name": "stdout",
     "text": "highs-ds\na:[4.95887916 2.36301441 3.13103513 0.07929235]\nb:0.0\nhighs-ipm\na:[4.95887916 2.36301441 3.13103513 0.07929235]\nb:0.0\nrevised simplex\na:[4.95887916 2.36301441 3.13103513 0.07929235]\nb:0.0\ninterior-point\na:[4.95887926 2.36301446 3.1310352  0.07929236]\nb:0.0\n",
     "output_type": "stream"
    }
   ],
   "execution_count": null
  },
  {
   "cell_type": "code",
   "metadata": {
    "cell_id": "00009-17dd6574-17d0-4b68-b925-16f51b841b92",
    "deepnote_to_be_reexecuted": false,
    "source_hash": "558ac439",
    "execution_start": 1644238871377,
    "execution_millis": 46,
    "deepnote_cell_type": "code"
   },
   "source": "a = np.array([6.35473734,3.24645703,4.11899572,0.56123915])\nb = 0.0\n#counters\ncorrectX = 0\ncorrectY = 0\nincorrect = 0\n\nfor row in test.to_numpy():\n    if sum(a * row[:-1]) - b > -1 and row[-1] == 0:\n        correctX += 1\n    elif sum(a * row[:-1]) - b < -1 and row[-1] == 1:\n        correctY += 1\n    else:\n        incorrect += 1\n        \nprint(F\"X correct = {correctX}\")\nprint(F\"Y correct = {correctY}\")\nprint(F\"Incorrect = {incorrect}\")\nprint(F\"Accuracry = {(correctX + correctY) / len(test.to_numpy())}\")",
   "outputs": [
    {
     "name": "stdout",
     "text": "X correct = 200\nY correct = 116\nIncorrect = 27\nAccuracry = 0.9212827988338192\n",
     "output_type": "stream"
    }
   ],
   "execution_count": null
  },
  {
   "cell_type": "markdown",
   "source": "<a style='text-decoration:none;line-height:16px;display:flex;color:#5B5B62;padding:10px;justify-content:end;' href='https://deepnote.com?utm_source=created-in-deepnote-cell&projectId=d49c4e00-e54d-42d3-8cda-6e1a56ded0ed' target=\"_blank\">\n<img alt='Created in deepnote.com' style='display:inline;max-height:16px;margin:0px;margin-right:7.5px;' src='data:image/svg+xml;base64,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' > </img>\nCreated in <span style='font-weight:600;margin-left:4px;'>Deepnote</span></a>",
   "metadata": {
    "tags": [],
    "created_in_deepnote_cell": true,
    "deepnote_cell_type": "markdown"
   }
  }
 ],
 "nbformat": 4,
 "nbformat_minor": 2,
 "metadata": {
  "deepnote": {
   "is_reactive": false
  },
  "deepnote_execution_queue": [],
  "deepnote_notebook_id": "5eb36b8a-fad7-47b7-9aa4-50de7693da87",
  "kernelspec": {
   "display_name": "Python 3 (ipykernel)",
   "language": "python",
   "name": "python3"
  },
  "language_info": {
   "codemirror_mode": {
    "name": "ipython",
    "version": 3
   },
   "file_extension": ".py",
   "mimetype": "text/x-python",
   "name": "python",
   "nbconvert_exporter": "python",
   "pygments_lexer": "ipython3",
   "version": "3.8.10"
  }
 }
}